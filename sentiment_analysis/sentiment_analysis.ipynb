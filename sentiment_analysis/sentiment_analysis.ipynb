{
 "cells": [
  {
   "cell_type": "code",
   "execution_count": 51,
   "metadata": {
    "collapsed": true
   },
   "outputs": [],
   "source": [
    "import numpy as np\n",
    "import pandas as pd\n",
    "import matplotlib.pyplot as plt\n",
    "import seaborn as sns\n",
    "from datetime import datetime\n"
   ]
  },
  {
   "cell_type": "code",
   "execution_count": 52,
   "metadata": {
    "pycharm": {
     "name": "#%%\n"
    }
   },
   "outputs": [],
   "source": [
    "data_dir = r'C:\\Users\\elbai\\PycharmProjects\\West_Coast_Regional_Datathon_2020\\data'"
   ]
  },
  {
   "cell_type": "code",
   "execution_count": 53,
   "metadata": {
    "pycharm": {
     "name": "#%%\n"
    }
   },
   "outputs": [],
   "source": [
    "tag_threshold = 1000"
   ]
  },
  {
   "cell_type": "code",
   "execution_count": 54,
   "metadata": {
    "pycharm": {
     "name": "#%%\n"
    }
   },
   "outputs": [
    {
     "data": {
      "text/html": [
       "<div>\n",
       "<style scoped>\n",
       "    .dataframe tbody tr th:only-of-type {\n",
       "        vertical-align: middle;\n",
       "    }\n",
       "\n",
       "    .dataframe tbody tr th {\n",
       "        vertical-align: top;\n",
       "    }\n",
       "\n",
       "    .dataframe thead th {\n",
       "        text-align: right;\n",
       "    }\n",
       "</style>\n",
       "<table border=\"1\" class=\"dataframe\">\n",
       "  <thead>\n",
       "    <tr style=\"text-align: right;\">\n",
       "      <th></th>\n",
       "      <th>userId</th>\n",
       "      <th>movieId</th>\n",
       "    </tr>\n",
       "  </thead>\n",
       "  <tbody>\n",
       "    <tr>\n",
       "      <th>count</th>\n",
       "      <td>1.108997e+06</td>\n",
       "      <td>1.108997e+06</td>\n",
       "    </tr>\n",
       "    <tr>\n",
       "      <th>mean</th>\n",
       "      <td>1.248016e+05</td>\n",
       "      <td>5.492109e+04</td>\n",
       "    </tr>\n",
       "    <tr>\n",
       "      <th>std</th>\n",
       "      <td>7.726964e+04</td>\n",
       "      <td>5.618123e+04</td>\n",
       "    </tr>\n",
       "    <tr>\n",
       "      <th>min</th>\n",
       "      <td>1.400000e+01</td>\n",
       "      <td>1.000000e+00</td>\n",
       "    </tr>\n",
       "    <tr>\n",
       "      <th>25%</th>\n",
       "      <td>7.340600e+04</td>\n",
       "      <td>3.362000e+03</td>\n",
       "    </tr>\n",
       "    <tr>\n",
       "      <th>50%</th>\n",
       "      <td>1.030130e+05</td>\n",
       "      <td>4.374400e+04</td>\n",
       "    </tr>\n",
       "    <tr>\n",
       "      <th>75%</th>\n",
       "      <td>1.883600e+05</td>\n",
       "      <td>9.682100e+04</td>\n",
       "    </tr>\n",
       "    <tr>\n",
       "      <th>max</th>\n",
       "      <td>2.832210e+05</td>\n",
       "      <td>1.938680e+05</td>\n",
       "    </tr>\n",
       "  </tbody>\n",
       "</table>\n",
       "</div>"
      ],
      "text/plain": [
       "             userId       movieId\n",
       "count  1.108997e+06  1.108997e+06\n",
       "mean   1.248016e+05  5.492109e+04\n",
       "std    7.726964e+04  5.618123e+04\n",
       "min    1.400000e+01  1.000000e+00\n",
       "25%    7.340600e+04  3.362000e+03\n",
       "50%    1.030130e+05  4.374400e+04\n",
       "75%    1.883600e+05  9.682100e+04\n",
       "max    2.832210e+05  1.938680e+05"
      ]
     },
     "execution_count": 54,
     "metadata": {},
     "output_type": "execute_result"
    }
   ],
   "source": [
    "from datetime import datetime\n",
    "dt_parser = lambda x: datetime.utcfromtimestamp(int(x)).strftime(\"%d/%m/%Y %H:%M:%S\")\n",
    "\n",
    "tag_df = pd.read_csv(data_dir + '/movie_lense/tags.csv', parse_dates=['timestamp'],  date_parser=dt_parser)\n",
    "tag_df.head(10)\n",
    "tag_df.describe()"
   ]
  },
  {
   "cell_type": "code",
   "execution_count": 55,
   "metadata": {
    "pycharm": {
     "name": "#%%\n"
    }
   },
   "outputs": [
    {
     "name": "stdout",
     "output_type": "stream",
     "text": [
      "   userId  movieId             tag           timestamp\n",
      "0      14      110            epic 2015-09-25 02:35:38\n",
      "1      14      110        Medieval 2015-09-25 02:35:32\n",
      "2      14      260          sci-fi 2015-09-13 18:36:50\n",
      "3      14      260    space action 2015-09-13 18:37:01\n",
      "4      14      318    imdb top 250 2015-09-18 22:26:35\n",
      "5      14      318         justice 2015-09-18 22:26:32\n",
      "6      14      480       Dinosaurs 2015-09-25 02:36:03\n",
      "7      14      593  psychothriller 2015-05-10 03:04:46\n",
      "8      14     1682      philosophy 2015-09-18 22:25:58\n",
      "9      14     1682    surveillance 2015-09-18 22:26:07\n",
      "sci-fi         9400\n",
      "atmospheric    6430\n",
      "action         6219\n",
      "comedy         5923\n",
      "surreal        5299\n",
      "               ... \n",
      "intelligent    1008\n",
      "futuristic     1008\n",
      "racism         1004\n",
      "Brad Pitt      1003\n",
      "military       1001\n",
      "Name: tag, Length: 137, dtype: int64\n"
     ]
    }
   ],
   "source": [
    "print(tag_df.head(10))\n",
    "tag_df = tag_df.groupby('tag').filter(lambda x: len(x) > tag_threshold)\n",
    "tag_count = tag_df['tag'].value_counts()\n",
    "print(tag_count)"
   ]
  },
  {
   "cell_type": "code",
   "execution_count": 153,
   "metadata": {
    "pycharm": {
     "name": "#%%\n"
    }
   },
   "outputs": [
    {
     "data": {
      "text/html": [
       "<div>\n",
       "<style scoped>\n",
       "    .dataframe tbody tr th:only-of-type {\n",
       "        vertical-align: middle;\n",
       "    }\n",
       "\n",
       "    .dataframe tbody tr th {\n",
       "        vertical-align: top;\n",
       "    }\n",
       "\n",
       "    .dataframe thead th {\n",
       "        text-align: right;\n",
       "    }\n",
       "</style>\n",
       "<table border=\"1\" class=\"dataframe\">\n",
       "  <thead>\n",
       "    <tr style=\"text-align: right;\">\n",
       "      <th></th>\n",
       "      <th>tag</th>\n",
       "    </tr>\n",
       "    <tr>\n",
       "      <th>movieId</th>\n",
       "      <th></th>\n",
       "    </tr>\n",
       "  </thead>\n",
       "  <tbody>\n",
       "    <tr>\n",
       "      <th>1</th>\n",
       "      <td>[comedy, family, friendship, adventure, animat...</td>\n",
       "    </tr>\n",
       "    <tr>\n",
       "      <th>2</th>\n",
       "      <td>[fantasy, adapted from:book, based on a book, ...</td>\n",
       "    </tr>\n",
       "    <tr>\n",
       "      <th>3</th>\n",
       "      <td>[sequel, comedy, sequel, funny, CLV]</td>\n",
       "    </tr>\n",
       "    <tr>\n",
       "      <th>4</th>\n",
       "      <td>[based on novel or book, revenge, CLV]</td>\n",
       "    </tr>\n",
       "    <tr>\n",
       "      <th>5</th>\n",
       "      <td>[remake, family, sequel, family, humorous, CLV...</td>\n",
       "    </tr>\n",
       "    <tr>\n",
       "      <th>...</th>\n",
       "      <td>...</td>\n",
       "    </tr>\n",
       "    <tr>\n",
       "      <th>193679</th>\n",
       "      <td>[drama]</td>\n",
       "    </tr>\n",
       "    <tr>\n",
       "      <th>193731</th>\n",
       "      <td>[based on a book]</td>\n",
       "    </tr>\n",
       "    <tr>\n",
       "      <th>193837</th>\n",
       "      <td>[aliens, anime]</td>\n",
       "    </tr>\n",
       "    <tr>\n",
       "      <th>193864</th>\n",
       "      <td>[family]</td>\n",
       "    </tr>\n",
       "    <tr>\n",
       "      <th>193868</th>\n",
       "      <td>[black and white, comedy, friendship, musical,...</td>\n",
       "    </tr>\n",
       "  </tbody>\n",
       "</table>\n",
       "<p>28921 rows × 1 columns</p>\n",
       "</div>"
      ],
      "text/plain": [
       "                                                       tag\n",
       "movieId                                                   \n",
       "1        [comedy, family, friendship, adventure, animat...\n",
       "2        [fantasy, adapted from:book, based on a book, ...\n",
       "3                     [sequel, comedy, sequel, funny, CLV]\n",
       "4                   [based on novel or book, revenge, CLV]\n",
       "5        [remake, family, sequel, family, humorous, CLV...\n",
       "...                                                    ...\n",
       "193679                                             [drama]\n",
       "193731                                   [based on a book]\n",
       "193837                                     [aliens, anime]\n",
       "193864                                            [family]\n",
       "193868   [black and white, comedy, friendship, musical,...\n",
       "\n",
       "[28921 rows x 1 columns]"
      ]
     },
     "execution_count": 153,
     "metadata": {},
     "output_type": "execute_result"
    }
   ],
   "source": [
    "#changed to tuple\n",
    "ntag_df = tag_df.groupby('movieId').agg(lambda x: x.tolist()).drop(['userId', 'timestamp'],axis=1)\n",
    "# tag_count = tag_df['tag'].value_counts()\n",
    "ntag_df"
   ]
  },
  {
   "cell_type": "code",
   "execution_count": 98,
   "metadata": {
    "pycharm": {
     "name": "#%%\n"
    }
   },
   "outputs": [
    {
     "name": "stdout",
     "output_type": "stream",
     "text": [
      "<class 'pandas.core.frame.DataFrame'>\n",
      "Int64Index: 28921 entries, 1 to 193868\n",
      "Columns: 137 entries, tag_Action to tag_zombies\n",
      "dtypes: uint8(137)\n",
      "memory usage: 4.0 MB\n"
     ]
    }
   ],
   "source": [
    "tagged_movies = pd.get_dummies(tag_df[['movieId', 'tag']], prefix='tag', columns=['tag']).groupby('movieId').max()\n",
    "\n",
    "#tagged_movies = pd.get_dummies(tag_df[['movieId', 'tag']], columns=['tag']).groupby('movieId').max()"
   ]
  },
  {
   "cell_type": "code",
   "execution_count": 121,
   "metadata": {
    "pycharm": {
     "name": "#%%\n"
    }
   },
   "outputs": [
    {
     "name": "stdout",
     "output_type": "stream",
     "text": [
      "         tag_Action  tag_BD-R  tag_Betamax  tag_Brad Pitt  tag_CLV  \\\n",
      "movieId                                                              \n",
      "1                 0         0            0              0        1   \n",
      "2                 0         0            0              0        1   \n",
      "3                 0         0            0              0        1   \n",
      "4                 0         0            0              0        1   \n",
      "5                 0         0            0              0        1   \n",
      "...             ...       ...          ...            ...      ...   \n",
      "193679            0         0            0              0        0   \n",
      "193731            0         0            0              0        0   \n",
      "193837            0         0            0              0        0   \n",
      "193864            0         0            0              0        0   \n",
      "193868            0         0            0              0        0   \n",
      "\n",
      "         tag_Criterion  tag_Disney  tag_Johnny Depp  tag_Leonardo DiCaprio  \\\n",
      "movieId                                                                      \n",
      "1                    0           1                0                      0   \n",
      "2                    0           0                0                      0   \n",
      "3                    0           0                0                      0   \n",
      "4                    0           0                0                      0   \n",
      "5                    0           0                0                      0   \n",
      "...                ...         ...              ...                    ...   \n",
      "193679               0           0                0                      0   \n",
      "193731               0           0                0                      0   \n",
      "193837               0           0                0                      0   \n",
      "193864               0           0                0                      0   \n",
      "193868               0           0                0                      0   \n",
      "\n",
      "         tag_Marvel  ...  tag_twist ending  tag_violence  tag_violent  \\\n",
      "movieId              ...                                                \n",
      "1                 0  ...                 0             0            0   \n",
      "2                 0  ...                 0             0            0   \n",
      "3                 0  ...                 0             0            0   \n",
      "4                 0  ...                 0             0            0   \n",
      "5                 0  ...                 0             0            0   \n",
      "...             ...  ...               ...           ...          ...   \n",
      "193679            0  ...                 0             0            0   \n",
      "193731            0  ...                 0             0            0   \n",
      "193837            0  ...                 0             0            0   \n",
      "193864            0  ...                 0             0            0   \n",
      "193868            0  ...                 0             0            0   \n",
      "\n",
      "         tag_visually appealing  tag_war  tag_witty  tag_woman director  \\\n",
      "movieId                                                                   \n",
      "1                             0        0          1                   0   \n",
      "2                             0        0          0                   0   \n",
      "3                             0        0          0                   0   \n",
      "4                             0        0          0                   0   \n",
      "5                             0        0          0                   0   \n",
      "...                         ...      ...        ...                 ...   \n",
      "193679                        0        0          0                   0   \n",
      "193731                        0        0          0                   0   \n",
      "193837                        0        0          0                   0   \n",
      "193864                        0        0          0                   0   \n",
      "193868                        0        0          0                   0   \n",
      "\n",
      "         tag_zombies  rating_total  rating_count  \n",
      "movieId                                           \n",
      "1                  0      266115.0       68469.0  \n",
      "2                  0       88122.0       27143.0  \n",
      "3                  0       49466.5       15585.0  \n",
      "4                  0        8592.0        2989.0  \n",
      "5                  0       47618.0       15474.0  \n",
      "...              ...           ...           ...  \n",
      "193679             0           0.0           0.0  \n",
      "193731             0           0.0           0.0  \n",
      "193837             0           0.0           0.0  \n",
      "193864             0           0.0           0.0  \n",
      "193868             0           0.0           0.0  \n",
      "\n",
      "[28921 rows x 139 columns]\n"
     ]
    }
   ],
   "source": [
    "tagged_movies['rating_total'] = 0\n",
    "tagged_movies['rating_count'] = 0\n",
    "i = 0\n",
    "for df in pd.read_csv(data_dir + '/movie_lense/ratings.csv',  date_parser=dt_parser, chunksize=1000):\n",
    "    df.drop(['userId', 'timestamp'], axis=1, inplace=True)\n",
    "    new_ratings = df.groupby('movieId').agg(['sum', 'count']).head(10)\n",
    "    new_ratings.columns = [\"_partial_\".join(x) for x in new_ratings.columns.ravel()]\n",
    "    new_ratings = pd.concat([tagged_movies[['rating_total', 'rating_count']], new_ratings], axis=1).fillna(0)\n",
    "    tagged_movies.rating_total = tagged_movies.rating_total.add(new_ratings['rating_partial_sum'])\n",
    "    tagged_movies.rating_count = tagged_movies.rating_count.add(new_ratings['rating_partial_count'])\n",
    "\n",
    "print(tagged_movies)"
   ]
  },
  {
   "cell_type": "code",
   "execution_count": 132,
   "metadata": {
    "pycharm": {
     "name": "#%%\n"
    }
   },
   "outputs": [
    {
     "name": "stderr",
     "output_type": "stream",
     "text": [
      "<ipython-input-132-cb5f44f99e9e>:4: SettingWithCopyWarning: \n",
      "A value is trying to be set on a copy of a slice from a DataFrame.\n",
      "Try using .loc[row_indexer,col_indexer] = value instead\n",
      "\n",
      "See the caveats in the documentation: https://pandas.pydata.org/pandas-docs/stable/user_guide/indexing.html#returning-a-view-versus-a-copy\n",
      "  tagged_movies['rating_avg'] = tagged_movies.apply(lambda x: x.rating_total/x.rating_count, axis=1)\n"
     ]
    }
   ],
   "source": [
    "#tagged_movies.to_pickle('./tagged_movies.pkl')\n",
    "#tagged_movies = pd.read_pickle('./tagged_movies.pkl')\n",
    "tagged_movies = tagged_movies[tagged_movies['rating_count'] > 0]\n",
    "tagged_movies['rating_avg'] = tagged_movies.apply(lambda x: x.rating_total/x.rating_count, axis=1)\n",
    "tagged_movies.to_pickle('./tagged_movies_w_rating_avg2.pkl')"
   ]
  },
  {
   "cell_type": "code",
   "execution_count": 187,
   "metadata": {
    "pycharm": {
     "name": "#%%\n"
    }
   },
   "outputs": [
    {
     "name": "stdout",
     "output_type": "stream",
     "text": [
      "Number of mislabeled points out of a total 2311 points : 1251\n"
     ]
    },
    {
     "name": "stderr",
     "output_type": "stream",
     "text": [
      "c:\\users\\elbai\\appdata\\local\\programs\\python\\python38-32\\lib\\site-packages\\seaborn\\distributions.py:2551: FutureWarning: `distplot` is a deprecated function and will be removed in a future version. Please adapt your code to use either `displot` (a figure-level function with similar flexibility) or `histplot` (an axes-level function for histograms).\n",
      "  warnings.warn(msg, FutureWarning)\n"
     ]
    },
    {
     "data": {
      "text/plain": [
       "<AxesSubplot:ylabel='Density'>"
      ]
     },
     "execution_count": 187,
     "metadata": {},
     "output_type": "execute_result"
    },
    {
     "data": {
      "image/png": "[encoded data removed]",
      "text/plain": [
       "<Figure size 432x288 with 1 Axes>"
      ]
     },
     "metadata": {
      "needs_background": "light"
     },
     "output_type": "display_data"
    }
   ],
   "source": [
    "from sklearn import naive_bayes\n",
    "from sklearn.model_selection import train_test_split\n",
    "input_df = tagged_movies.drop(columns=['rating_total', 'rating_count', 'rating_avg'])\n",
    "rating_avg = tagged_movies.rating_avg\n",
    "[lower, upper] = rating_avg.quantile([0.3, 0.7])\n",
    "def rating_to_sentiment(rating):\n",
    "    if rating < lower:\n",
    "        sentiment = -1\n",
    "    elif rating > upper:\n",
    "        sentiment = 1\n",
    "    else:\n",
    "        sentiment = 0\n",
    "    return sentiment\n",
    "output_df = rating_avg.apply(lambda x: rating_to_sentiment(x))\n",
    "X_train, X_test, y_train, y_test = train_test_split(input_df, output_df, test_size=0.5)\n",
    "gnb = naive_bayes.GaussianNB()\n",
    "y_pred = gnb.fit(X_train, y_train).predict(X_test)\n",
    "print(\"Number of mislabeled points out of a total %d points : %d\" % (X_test.shape[0], (y_test != y_pred).sum()))\n",
    "\n",
    "sns.distplot(y_pred)"
   ]
  },
  {
   "cell_type": "code",
   "execution_count": null,
   "outputs": [],
   "source": [
    "from sklearn import svm\n",
    "\n",
    "clf = svm.NuSVC(gamma='auto')\n",
    "y_pred_svm = clf.fit(X_train, y_train).predict(X_test)\n",
    "print(\"Number of mislabeled points out of a total %d points : %d\" % (X_test.shape[0], (y_test != y_pred).sum()))\n",
    "\n",
    "sns.distplot(y_pred)"
   ],
   "metadata": {
    "collapsed": false,
    "pycharm": {
     "name": "#%%\n"
    }
   }
  },
  {
   "cell_type": "code",
   "execution_count": 170,
   "metadata": {},
   "outputs": [
    {
     "name": "stdout",
     "output_type": "stream",
     "text": [
      "Number of mislabeled points out of a total 2311 points : 1306\n"
     ]
    },
    {
     "name": "stderr",
     "output_type": "stream",
     "text": [
      "c:\\users\\elbai\\appdata\\local\\programs\\python\\python38-32\\lib\\site-packages\\seaborn\\distributions.py:2551: FutureWarning: `distplot` is a deprecated function and will be removed in a future version. Please adapt your code to use either `displot` (a figure-level function with similar flexibility) or `histplot` (an axes-level function for histograms).\n",
      "  warnings.warn(msg, FutureWarning)\n"
     ]
    },
    {
     "data": {
      "text/plain": [
       "<AxesSubplot:ylabel='Density'>"
      ]
     },
     "execution_count": 170,
     "metadata": {},
     "output_type": "execute_result"
    },
    {
     "data": {
      "image/png": "[encoded data removed]",
      "text/plain": [
       "<Figure size 432x288 with 1 Axes>"
      ]
     },
     "metadata": {
      "needs_background": "light"
     },
     "output_type": "display_data"
    }
   ],
   "source": [
    "sns.distplot(rating_avg)\n",
    "print(rating_avg.quantile([0.3, 0.7]))\n",
    "print(rating_avg.describe())"
   ]
  },
  {
   "cell_type": "code",
   "execution_count": 149,
   "metadata": {
    "pycharm": {
     "name": "#%%\n"
    }
   },
   "outputs": [
    {
     "name": "stderr",
     "output_type": "stream",
     "text": [
      "c:\\users\\elbai\\appdata\\local\\programs\\python\\python38-32\\lib\\site-packages\\seaborn\\distributions.py:2551: FutureWarning: `distplot` is a deprecated function and will be removed in a future version. Please adapt your code to use either `displot` (a figure-level function with similar flexibility) or `histplot` (an axes-level function for histograms).\n",
      "  warnings.warn(msg, FutureWarning)\n"
     ]
    },
    {
     "name": "stdout",
     "output_type": "stream",
     "text": [
      "0.3    2.8\n",
      "0.7    3.5\n",
      "Name: rating_avg, dtype: float64\n",
      "count    4621.000000\n",
      "mean        3.115317\n",
      "std         0.870598\n",
      "min         0.500000\n",
      "25%         2.541667\n",
      "50%         3.166667\n",
      "75%         3.681818\n",
      "max         5.000000\n",
      "Name: rating_avg, dtype: float64\n"
     ]
    },
    {
     "data": {
      "image/png": "[encoded data removed]",
      "text/plain": [
       "<Figure size 432x288 with 1 Axes>"
      ]
     },
     "metadata": {
      "needs_background": "light"
     },
     "output_type": "display_data"
    }
   ],
   "source": [
    "sns.distplot(rating_avg)\n",
    "print(rating_avg.quantile([0.3, 0.7]))\n",
    "print(rating_avg.describe())"
   ]
  },
  {
   "cell_type": "code",
   "execution_count": null,
   "metadata": {
    "pycharm": {
     "name": "#%%\n"
    }
   },
   "outputs": [],
   "source": []
  }
 ],
 "metadata": {
  "kernelspec": {
   "display_name": "Python 3",
   "language": "python",
   "name": "python3"
  },
  "language_info": {
   "codemirror_mode": {
    "name": "ipython",
    "version": 3
   },
   "file_extension": ".py",
   "mimetype": "text/x-python",
   "name": "python",
   "nbconvert_exporter": "python",
   "pygments_lexer": "ipython3",
   "version": "3.8.3"
  }
 },
 "nbformat": 4,
 "nbformat_minor": 1
}