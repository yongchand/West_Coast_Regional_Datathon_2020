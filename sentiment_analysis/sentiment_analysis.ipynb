{
 "cells": [
  {
   "cell_type": "code",
   "execution_count": 1,
   "metadata": {},
   "outputs": [],
   "source": [
    "import numpy as np\n",
    "import pandas as pd\n",
    "import matplotlib.pyplot as plt\n",
    "import seaborn as sns\n",
    "from datetime import datetime\n"
   ]
  },
  {
   "cell_type": "code",
   "execution_count": 52,
   "metadata": {
    "pycharm": {
     "name": "#%%\n"
    }
   },
   "outputs": [],
   "source": [
    "data_dir = r'C:\\Users\\elbai\\PycharmProjects\\West_Coast_Regional_Datathon_2020\\data'"
   ]
  },
  {
   "cell_type": "code",
   "execution_count": 2,
   "metadata": {},
   "outputs": [],
   "source": [
    "data_dir = \"D:\\\\Downloads\\\\citadel-datathon-fall-2020\""
   ]
  },
  {
   "cell_type": "code",
   "execution_count": 3,
   "metadata": {
    "pycharm": {
     "name": "#%%\n"
    }
   },
   "outputs": [],
   "source": [
    "tag_threshold = 1000"
   ]
  },
  {
   "cell_type": "code",
   "execution_count": 22,
   "metadata": {
    "pycharm": {
     "name": "#%%\n"
    }
   },
   "outputs": [
    {
     "data": {
      "text/html": [
       "<div>\n",
       "<style scoped>\n",
       "    .dataframe tbody tr th:only-of-type {\n",
       "        vertical-align: middle;\n",
       "    }\n",
       "\n",
       "    .dataframe tbody tr th {\n",
       "        vertical-align: top;\n",
       "    }\n",
       "\n",
       "    .dataframe thead th {\n",
       "        text-align: right;\n",
       "    }\n",
       "</style>\n",
       "<table border=\"1\" class=\"dataframe\">\n",
       "  <thead>\n",
       "    <tr style=\"text-align: right;\">\n",
       "      <th></th>\n",
       "      <th>userId</th>\n",
       "      <th>movieId</th>\n",
       "    </tr>\n",
       "  </thead>\n",
       "  <tbody>\n",
       "    <tr>\n",
       "      <th>count</th>\n",
       "      <td>1.108997e+06</td>\n",
       "      <td>1.108997e+06</td>\n",
       "    </tr>\n",
       "    <tr>\n",
       "      <th>mean</th>\n",
       "      <td>1.248016e+05</td>\n",
       "      <td>5.492109e+04</td>\n",
       "    </tr>\n",
       "    <tr>\n",
       "      <th>std</th>\n",
       "      <td>7.726964e+04</td>\n",
       "      <td>5.618123e+04</td>\n",
       "    </tr>\n",
       "    <tr>\n",
       "      <th>min</th>\n",
       "      <td>1.400000e+01</td>\n",
       "      <td>1.000000e+00</td>\n",
       "    </tr>\n",
       "    <tr>\n",
       "      <th>25%</th>\n",
       "      <td>7.340600e+04</td>\n",
       "      <td>3.362000e+03</td>\n",
       "    </tr>\n",
       "    <tr>\n",
       "      <th>50%</th>\n",
       "      <td>1.030130e+05</td>\n",
       "      <td>4.374400e+04</td>\n",
       "    </tr>\n",
       "    <tr>\n",
       "      <th>75%</th>\n",
       "      <td>1.883600e+05</td>\n",
       "      <td>9.682100e+04</td>\n",
       "    </tr>\n",
       "    <tr>\n",
       "      <th>max</th>\n",
       "      <td>2.832210e+05</td>\n",
       "      <td>1.938680e+05</td>\n",
       "    </tr>\n",
       "  </tbody>\n",
       "</table>\n",
       "</div>"
      ],
      "text/plain": [
       "             userId       movieId\n",
       "count  1.108997e+06  1.108997e+06\n",
       "mean   1.248016e+05  5.492109e+04\n",
       "std    7.726964e+04  5.618123e+04\n",
       "min    1.400000e+01  1.000000e+00\n",
       "25%    7.340600e+04  3.362000e+03\n",
       "50%    1.030130e+05  4.374400e+04\n",
       "75%    1.883600e+05  9.682100e+04\n",
       "max    2.832210e+05  1.938680e+05"
      ]
     },
     "execution_count": 22,
     "metadata": {},
     "output_type": "execute_result"
    }
   ],
   "source": [
    "from datetime import datetime\n",
    "\n",
    "tag_df = pd.read_csv(data_dir + '/movie_lense/tags.csv')\n",
    "tag_df['timestamp'] = pd.to_datetime(tag_df['timestamp'], unit='s')\n",
    "tag_df.head(10)\n",
    "tag_df.describe()"
   ]
  },
  {
   "cell_type": "code",
   "execution_count": 23,
   "metadata": {
    "pycharm": {
     "name": "#%%\n"
    }
   },
   "outputs": [
    {
     "name": "stdout",
     "output_type": "stream",
     "text": [
      "   userId  movieId             tag           timestamp\n",
      "0      14      110            epic 2015-09-25 02:35:38\n",
      "1      14      110        Medieval 2015-09-25 02:35:32\n",
      "2      14      260          sci-fi 2015-09-13 18:36:50\n",
      "3      14      260    space action 2015-09-13 18:37:01\n",
      "4      14      318    imdb top 250 2015-09-18 22:26:35\n",
      "5      14      318         justice 2015-09-18 22:26:32\n",
      "6      14      480       Dinosaurs 2015-09-25 02:36:03\n",
      "7      14      593  psychothriller 2015-10-05 03:04:46\n",
      "8      14     1682      philosophy 2015-09-18 22:25:58\n",
      "9      14     1682    surveillance 2015-09-18 22:26:07\n",
      "sci-fi         9400\n",
      "atmospheric    6430\n",
      "action         6219\n",
      "comedy         5923\n",
      "surreal        5299\n",
      "               ... \n",
      "intelligent    1008\n",
      "futuristic     1008\n",
      "racism         1004\n",
      "Brad Pitt      1003\n",
      "military       1001\n",
      "Name: tag, Length: 137, dtype: int64\n"
     ]
    }
   ],
   "source": [
    "print(tag_df.head(10))\n",
    "tag_df = tag_df.groupby('tag').filter(lambda x: len(x) > tag_threshold)\n",
    "tag_count = tag_df['tag'].value_counts()\n",
    "print(tag_count)"
   ]
  },
  {
   "cell_type": "code",
   "execution_count": 24,
   "metadata": {
    "pycharm": {
     "name": "#%%\n"
    }
   },
   "outputs": [
    {
     "data": {
      "text/html": [
       "<div>\n",
       "<style scoped>\n",
       "    .dataframe tbody tr th:only-of-type {\n",
       "        vertical-align: middle;\n",
       "    }\n",
       "\n",
       "    .dataframe tbody tr th {\n",
       "        vertical-align: top;\n",
       "    }\n",
       "\n",
       "    .dataframe thead th {\n",
       "        text-align: right;\n",
       "    }\n",
       "</style>\n",
       "<table border=\"1\" class=\"dataframe\">\n",
       "  <thead>\n",
       "    <tr style=\"text-align: right;\">\n",
       "      <th></th>\n",
       "      <th>tag</th>\n",
       "    </tr>\n",
       "    <tr>\n",
       "      <th>movieId</th>\n",
       "      <th></th>\n",
       "    </tr>\n",
       "  </thead>\n",
       "  <tbody>\n",
       "    <tr>\n",
       "      <th>1</th>\n",
       "      <td>[comedy, family, friendship, adventure, animat...</td>\n",
       "    </tr>\n",
       "    <tr>\n",
       "      <th>2</th>\n",
       "      <td>[fantasy, adapted from:book, based on a book, ...</td>\n",
       "    </tr>\n",
       "    <tr>\n",
       "      <th>3</th>\n",
       "      <td>[sequel, comedy, sequel, funny, CLV]</td>\n",
       "    </tr>\n",
       "    <tr>\n",
       "      <th>4</th>\n",
       "      <td>[based on novel or book, revenge, CLV]</td>\n",
       "    </tr>\n",
       "    <tr>\n",
       "      <th>5</th>\n",
       "      <td>[remake, family, sequel, family, humorous, CLV...</td>\n",
       "    </tr>\n",
       "    <tr>\n",
       "      <th>...</th>\n",
       "      <td>...</td>\n",
       "    </tr>\n",
       "    <tr>\n",
       "      <th>193679</th>\n",
       "      <td>[drama]</td>\n",
       "    </tr>\n",
       "    <tr>\n",
       "      <th>193731</th>\n",
       "      <td>[based on a book]</td>\n",
       "    </tr>\n",
       "    <tr>\n",
       "      <th>193837</th>\n",
       "      <td>[aliens, anime]</td>\n",
       "    </tr>\n",
       "    <tr>\n",
       "      <th>193864</th>\n",
       "      <td>[family]</td>\n",
       "    </tr>\n",
       "    <tr>\n",
       "      <th>193868</th>\n",
       "      <td>[black and white, comedy, friendship, musical,...</td>\n",
       "    </tr>\n",
       "  </tbody>\n",
       "</table>\n",
       "<p>28921 rows × 1 columns</p>\n",
       "</div>"
      ],
      "text/plain": [
       "                                                       tag\n",
       "movieId                                                   \n",
       "1        [comedy, family, friendship, adventure, animat...\n",
       "2        [fantasy, adapted from:book, based on a book, ...\n",
       "3                     [sequel, comedy, sequel, funny, CLV]\n",
       "4                   [based on novel or book, revenge, CLV]\n",
       "5        [remake, family, sequel, family, humorous, CLV...\n",
       "...                                                    ...\n",
       "193679                                             [drama]\n",
       "193731                                   [based on a book]\n",
       "193837                                     [aliens, anime]\n",
       "193864                                            [family]\n",
       "193868   [black and white, comedy, friendship, musical,...\n",
       "\n",
       "[28921 rows x 1 columns]"
      ]
     },
     "execution_count": 24,
     "metadata": {},
     "output_type": "execute_result"
    }
   ],
   "source": [
    "#changed to tuple\n",
    "ntag_df = tag_df.groupby('movieId').agg(lambda x: x.tolist()).drop(['userId', 'timestamp'],axis=1)\n",
    "# tag_count = tag_df['tag'].value_counts()\n",
    "ntag_df"
   ]
  },
  {
   "cell_type": "code",
   "execution_count": 34,
   "metadata": {
    "pycharm": {
     "name": "#%%\n"
    }
   },
   "outputs": [],
   "source": [
    "tagged_movies = pd.get_dummies(tag_df[['movieId', 'tag']], prefix='tag', columns=['tag']).groupby('movieId').max()\n",
    "\n",
    "#tagged_movies = pd.get_dummies(tag_df[['movieId', 'tag']], columns=['tag']).groupby('movieId').max()"
   ]
  },
  {
   "cell_type": "code",
   "execution_count": null,
   "metadata": {},
   "outputs": [],
   "source": [
    "ratings_csv = pd.read_csv(data_dir + '/movie_lense/ratings.csv')"
   ]
  },
  {
   "cell_type": "code",
   "execution_count": 35,
   "metadata": {},
   "outputs": [
    {
     "name": "stdout",
     "output_type": "stream",
     "text": [
      "         tag_Action  tag_BD-R  tag_Betamax  tag_Brad Pitt  tag_CLV  \\\n",
      "movieId                                                              \n",
      "1                 0         0            0              0        1   \n",
      "2                 0         0            0              0        1   \n",
      "3                 0         0            0              0        1   \n",
      "4                 0         0            0              0        1   \n",
      "5                 0         0            0              0        1   \n",
      "...             ...       ...          ...            ...      ...   \n",
      "193679            0         0            0              0        0   \n",
      "193731            0         0            0              0        0   \n",
      "193837            0         0            0              0        0   \n",
      "193864            0         0            0              0        0   \n",
      "193868            0         0            0              0        0   \n",
      "\n",
      "         tag_Criterion  tag_Disney  tag_Johnny Depp  tag_Leonardo DiCaprio  \\\n",
      "movieId                                                                      \n",
      "1                    0           1                0                      0   \n",
      "2                    0           0                0                      0   \n",
      "3                    0           0                0                      0   \n",
      "4                    0           0                0                      0   \n",
      "5                    0           0                0                      0   \n",
      "...                ...         ...              ...                    ...   \n",
      "193679               0           0                0                      0   \n",
      "193731               0           0                0                      0   \n",
      "193837               0           0                0                      0   \n",
      "193864               0           0                0                      0   \n",
      "193868               0           0                0                      0   \n",
      "\n",
      "         tag_Marvel  ...  tag_twist ending  tag_violence  tag_violent  \\\n",
      "movieId              ...                                                \n",
      "1                 0  ...                 0             0            0   \n",
      "2                 0  ...                 0             0            0   \n",
      "3                 0  ...                 0             0            0   \n",
      "4                 0  ...                 0             0            0   \n",
      "5                 0  ...                 0             0            0   \n",
      "...             ...  ...               ...           ...          ...   \n",
      "193679            0  ...                 0             0            0   \n",
      "193731            0  ...                 0             0            0   \n",
      "193837            0  ...                 0             0            0   \n",
      "193864            0  ...                 0             0            0   \n",
      "193868            0  ...                 0             0            0   \n",
      "\n",
      "         tag_visually appealing  tag_war  tag_witty  tag_woman director  \\\n",
      "movieId                                                                   \n",
      "1                             0        0          1                   0   \n",
      "2                             0        0          0                   0   \n",
      "3                             0        0          0                   0   \n",
      "4                             0        0          0                   0   \n",
      "5                             0        0          0                   0   \n",
      "...                         ...      ...        ...                 ...   \n",
      "193679                        0        0          0                   0   \n",
      "193731                        0        0          0                   0   \n",
      "193837                        0        0          0                   0   \n",
      "193864                        0        0          0                   0   \n",
      "193868                        0        0          0                   0   \n",
      "\n",
      "         tag_zombies  rating_total  rating_count  \n",
      "movieId                                           \n",
      "1                  0      266115.0       68469.0  \n",
      "2                  0       88122.0       27143.0  \n",
      "3                  0       49466.5       15585.0  \n",
      "4                  0        8592.0        2989.0  \n",
      "5                  0       47618.0       15474.0  \n",
      "...              ...           ...           ...  \n",
      "193679             0           2.0           1.0  \n",
      "193731             0           3.0           1.0  \n",
      "193837             0           2.0           1.0  \n",
      "193864             0           2.5           1.0  \n",
      "193868             0           8.5           2.0  \n",
      "\n",
      "[28921 rows x 139 columns]\n"
     ]
    }
   ],
   "source": [
    "\n",
    "tagged_movies['rating_total'] = ratings_csv.groupby('movieId')['rating'].sum()\n",
    "tagged_movies['rating_count'] = ratings_csv.groupby('movieId')['rating'].count()\n",
    "print(tagged_movies)"
   ]
  },
  {
   "cell_type": "code",
   "execution_count": 36,
   "metadata": {
    "pycharm": {
     "name": "#%%\n"
    }
   },
   "outputs": [],
   "source": [
    "#tagged_movies.to_pickle('./tagged_movies.pkl')\n",
    "#tagged_movies = pd.read_pickle('./tagged_movies.pkl')\n",
    "tagged_movies = tagged_movies[tagged_movies['rating_count'] > 0]\n",
    "tagged_movies['rating_avg'] = tagged_movies.apply(lambda x: x.rating_total/x.rating_count, axis=1)\n",
    "tagged_movies.dropna()\n",
    "tagged_movies.to_pickle('./tagged_movies_w_rating_avg.pkl')"
   ]
  },
  {
   "cell_type": "code",
   "execution_count": 92,
   "metadata": {
    "pycharm": {
     "name": "#%%\n"
    }
   },
   "outputs": [
    {
     "name": "stdout",
     "output_type": "stream",
     "text": [
      "Number of mislabeled points out of a total 5458 points : 4170\n"
     ]
    }
   ],
   "source": [
    "from sklearn import naive_bayes\n",
    "from sklearn.model_selection import train_test_split\n",
    "input = tagged_movies.drop(columns=['rating_total', 'rating_count', 'rating_avg'])\n",
    "rating_avg = tagged_movies.rating_avg\n",
    "[lower, upper] = rating_avg.quantile([0.3, 0.7])\n",
    "def rating_to_sentiment(rating):\n",
    "    if rating < lower:\n",
    "        sentiment = -1\n",
    "    elif rating > upper:\n",
    "        sentiment = 1\n",
    "    else:\n",
    "        sentiment = 0\n",
    "    return sentiment\n",
    "output = rating_avg.apply(lambda x: rating_to_sentiment(x))\n",
    "X_train, X_test, y_train, y_test = train_test_split(input, output, test_size=0.5, random_state=0)\n",
    "gnb = naive_bayes.GaussianNB()\n",
    "y_pred = gnb.fit(X_train, y_train).predict(X_test)\n",
    "print(\"Number of mislabeled points out of a total %d points : %d\" % (X_test.shape[0], (y_test != y_pred).sum()))\n",
    "\n",
    "sns.distplot(rating_avg)"
   ]
  },
  {
   "cell_type": "raw",
   "metadata": {},
   "source": [
    "Start of Daniel's Workspace"
   ]
  },
  {
   "cell_type": "code",
   "execution_count": 94,
   "metadata": {},
   "outputs": [],
   "source": [
    "input = tagged_movies.drop(columns=['rating_total', 'rating_count', 'rating_avg'])\n",
    "rating_avg = tagged_movies.rating_avg\n",
    "def rating_to_sentiment(rating):\n",
    "    if rating < 3:\n",
    "        sentiment = -1\n",
    "    elif rating < 3.5:\n",
    "        sentiment = 0\n",
    "    else:\n",
    "        sentiment = 1\n",
    "    return sentiment\n",
    "output = rating_avg.apply(lambda x: rating_to_sentiment(x)) + 1\n",
    "X_train, X_test, y_train, y_test = train_test_split(input.values, output, test_size=0.2, random_state=500)"
   ]
  },
  {
   "cell_type": "code",
   "execution_count": 95,
   "metadata": {},
   "outputs": [
    {
     "name": "stdout",
     "output_type": "stream",
     "text": [
      "acc/correct/total: 0.464273/2534/5458\n"
     ]
    }
   ],
   "source": [
    "gnb = naive_bayes.CategoricalNB()\n",
    "#gnb = naive_bayes.GaussianNB()\n",
    "y_pred = gnb.fit(X_train, y_train).predict(X_test)\n",
    "total = X_test.shape[0]\n",
    "correct = (y_test == y_pred).sum()\n",
    "print(\"acc/correct/total: %f/%d/%d\" % (correct/total, correct, total))"
   ]
  },
  {
   "cell_type": "code",
   "execution_count": 105,
   "metadata": {},
   "outputs": [],
   "source": [
    "from sklearn import linear_model\n",
    "from sklearn import tree\n",
    "from sklearn import ensemble\n",
    "from sklearn import metrics"
   ]
  },
  {
   "cell_type": "code",
   "execution_count": 96,
   "metadata": {},
   "outputs": [
    {
     "name": "stdout",
     "output_type": "stream",
     "text": [
      "acc/correct/total: 0.455661/2487/5458\n"
     ]
    }
   ],
   "source": [
    "clf = ensemble.RandomForestClassifier(10)\n",
    "y_pred = clf.fit(X_train, y_train).predict(X_test)\n",
    "total = X_test.shape[0]\n",
    "correct = (y_test == y_pred).sum()\n",
    "print(\"acc/correct/total: %f/%d/%d\" % (correct/total, correct, total))"
   ]
  },
  {
   "cell_type": "code",
   "execution_count": 108,
   "metadata": {},
   "outputs": [],
   "source": [
    "output = rating_avg\n",
    "X_train, X_test, y_train, y_test = train_test_split(input.values, output, test_size=0.2, random_state=500)"
   ]
  },
  {
   "cell_type": "code",
   "execution_count": 109,
   "metadata": {},
   "outputs": [
    {
     "name": "stdout",
     "output_type": "stream",
     "text": [
      "MSE/R^2/MAE: 0.336584/0.146043/0.429874\n"
     ]
    }
   ],
   "source": [
    "model = linear_model.LinearRegression()\n",
    "y_pred = model.fit(X_train, y_train).predict(X_test)\n",
    "print(\"MSE/R^2/MAE: %f/%f/%f\" % \\\n",
    "      (metrics.mean_squared_error(y_test, y_pred), \n",
    "       metrics.r2_score(y_test, y_pred), \n",
    "       metrics.mean_absolute_error(y_test, y_pred)))"
   ]
  },
  {
   "cell_type": "code",
   "execution_count": null,
   "metadata": {},
   "outputs": [],
   "source": []
  }
 ],
 "metadata": {
  "kernelspec": {
   "display_name": "Python 3",
   "language": "python",
   "name": "python3"
  },
  "language_info": {
   "codemirror_mode": {
    "name": "ipython",
    "version": 3
   },
   "file_extension": ".py",
   "mimetype": "text/x-python",
   "name": "python",
   "nbconvert_exporter": "python",
   "pygments_lexer": "ipython3",
   "version": "3.8.5"
  }
 },
 "nbformat": 4,
 "nbformat_minor": 1
}
