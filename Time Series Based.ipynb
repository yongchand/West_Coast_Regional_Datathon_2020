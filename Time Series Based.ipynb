{
 "cells": [
  {
   "cell_type": "code",
   "execution_count": 1,
   "metadata": {},
   "outputs": [],
   "source": [
    "import numpy as np\n",
    "import pandas as pd\n",
    "import matplotlib.pyplot as plt\n",
    "import seaborn as sns\n",
    "from datetime import datetime\n",
    "import os\n",
    "import requests \n",
    "import random\n",
    "\n",
    "%matplotlib inline"
   ]
  },
  {
   "cell_type": "code",
   "execution_count": 2,
   "metadata": {},
   "outputs": [],
   "source": [
    "data_dir = \"D:\\\\Downloads\\\\citadel-datathon-fall-2020\"\n",
    "DATA_ROOT = \"D:\\\\Downloads\\\\citadel-datathon-fall-2020\""
   ]
  },
  {
   "cell_type": "code",
   "execution_count": 3,
   "metadata": {},
   "outputs": [],
   "source": [
    "# load in data\n",
    "movies_csv = pd.read_csv(os.path.join(DATA_ROOT, 'movies.csv'))\n",
    "ratings_csv = pd.read_csv(os.path.join(DATA_ROOT, 'ratings.csv'))\n",
    "\n",
    "oscars_csv = pd.read_csv(os.path.join(DATA_ROOT, 'the_oscar_award.csv'))\n",
    "tags_csv = pd.read_csv(os.path.join(DATA_ROOT, 'tags.csv'))"
   ]
  },
  {
   "cell_type": "code",
   "execution_count": 4,
   "metadata": {},
   "outputs": [],
   "source": [
    "oscars_csv.dropna(subset=['film'])\n",
    "oscar_cer2day = pd.read_csv('oscar_cer2day.csv')\n",
    "oscar_cer2day['day'] = pd.to_datetime(oscar_cer2day['day'])\n",
    "oscar_cer2day = oscar_cer2day.set_index('ceremony')"
   ]
  },
  {
   "cell_type": "code",
   "execution_count": 5,
   "metadata": {},
   "outputs": [],
   "source": [
    "sorted_ratings = ratings_csv.sort_values(by='timestamp').reset_index(drop=True)\n",
    "s_ratings_grouped = sorted_ratings.groupby('movieId')"
   ]
  },
  {
   "cell_type": "code",
   "execution_count": 6,
   "metadata": {},
   "outputs": [],
   "source": [
    "sorted_ratings['datetime'] = pd.to_datetime(sorted_ratings['timestamp'], unit='s')"
   ]
  },
  {
   "cell_type": "code",
   "execution_count": 7,
   "metadata": {},
   "outputs": [],
   "source": [
    "ratings_t = sorted_ratings\n",
    "ratings_t['cum_rating'] = s_ratings_grouped['rating'].cumsum()\n",
    "ratings_t['cum_count'] = s_ratings_grouped['rating'].cumcount()\n",
    "ratings_t['cur_rating'] = ratings_t['cum_rating'] / (ratings_t['cum_count'] + 1)"
   ]
  },
  {
   "cell_type": "code",
   "execution_count": 8,
   "metadata": {},
   "outputs": [
    {
     "data": {
      "text/html": [
       "<div>\n",
       "<style scoped>\n",
       "    .dataframe tbody tr th:only-of-type {\n",
       "        vertical-align: middle;\n",
       "    }\n",
       "\n",
       "    .dataframe tbody tr th {\n",
       "        vertical-align: top;\n",
       "    }\n",
       "\n",
       "    .dataframe thead th {\n",
       "        text-align: right;\n",
       "    }\n",
       "</style>\n",
       "<table border=\"1\" class=\"dataframe\">\n",
       "  <thead>\n",
       "    <tr style=\"text-align: right;\">\n",
       "      <th></th>\n",
       "      <th>userId</th>\n",
       "      <th>movieId</th>\n",
       "      <th>rating</th>\n",
       "      <th>timestamp</th>\n",
       "      <th>datetime</th>\n",
       "      <th>cum_rating</th>\n",
       "      <th>cum_count</th>\n",
       "      <th>cur_rating</th>\n",
       "      <th>win_rating</th>\n",
       "    </tr>\n",
       "  </thead>\n",
       "  <tbody>\n",
       "    <tr>\n",
       "      <th>0</th>\n",
       "      <td>56769</td>\n",
       "      <td>1176</td>\n",
       "      <td>4.0</td>\n",
       "      <td>789652004</td>\n",
       "      <td>1995-01-09 11:46:44</td>\n",
       "      <td>4.0</td>\n",
       "      <td>0</td>\n",
       "      <td>4.000000</td>\n",
       "      <td>4.000000</td>\n",
       "    </tr>\n",
       "    <tr>\n",
       "      <th>1</th>\n",
       "      <td>237556</td>\n",
       "      <td>1079</td>\n",
       "      <td>3.0</td>\n",
       "      <td>789652009</td>\n",
       "      <td>1995-01-09 11:46:49</td>\n",
       "      <td>3.0</td>\n",
       "      <td>0</td>\n",
       "      <td>3.000000</td>\n",
       "      <td>3.000000</td>\n",
       "    </tr>\n",
       "    <tr>\n",
       "      <th>2</th>\n",
       "      <td>237556</td>\n",
       "      <td>47</td>\n",
       "      <td>5.0</td>\n",
       "      <td>789652009</td>\n",
       "      <td>1995-01-09 11:46:49</td>\n",
       "      <td>5.0</td>\n",
       "      <td>0</td>\n",
       "      <td>5.000000</td>\n",
       "      <td>5.000000</td>\n",
       "    </tr>\n",
       "    <tr>\n",
       "      <th>3</th>\n",
       "      <td>237556</td>\n",
       "      <td>21</td>\n",
       "      <td>3.0</td>\n",
       "      <td>789652009</td>\n",
       "      <td>1995-01-09 11:46:49</td>\n",
       "      <td>3.0</td>\n",
       "      <td>0</td>\n",
       "      <td>3.000000</td>\n",
       "      <td>3.000000</td>\n",
       "    </tr>\n",
       "    <tr>\n",
       "      <th>4</th>\n",
       "      <td>150485</td>\n",
       "      <td>39</td>\n",
       "      <td>5.0</td>\n",
       "      <td>822873600</td>\n",
       "      <td>1996-01-29 00:00:00</td>\n",
       "      <td>5.0</td>\n",
       "      <td>0</td>\n",
       "      <td>5.000000</td>\n",
       "      <td>5.000000</td>\n",
       "    </tr>\n",
       "    <tr>\n",
       "      <th>...</th>\n",
       "      <td>...</td>\n",
       "      <td>...</td>\n",
       "      <td>...</td>\n",
       "      <td>...</td>\n",
       "      <td>...</td>\n",
       "      <td>...</td>\n",
       "      <td>...</td>\n",
       "      <td>...</td>\n",
       "      <td>...</td>\n",
       "    </tr>\n",
       "    <tr>\n",
       "      <th>27753439</th>\n",
       "      <td>280481</td>\n",
       "      <td>2294</td>\n",
       "      <td>2.0</td>\n",
       "      <td>1537945121</td>\n",
       "      <td>2018-09-26 06:58:41</td>\n",
       "      <td>41980.0</td>\n",
       "      <td>12973</td>\n",
       "      <td>3.235702</td>\n",
       "      <td>2.917000</td>\n",
       "    </tr>\n",
       "    <tr>\n",
       "      <th>27753440</th>\n",
       "      <td>280481</td>\n",
       "      <td>2355</td>\n",
       "      <td>3.0</td>\n",
       "      <td>1537945123</td>\n",
       "      <td>2018-09-26 06:58:43</td>\n",
       "      <td>91256.0</td>\n",
       "      <td>25520</td>\n",
       "      <td>3.575722</td>\n",
       "      <td>3.427000</td>\n",
       "    </tr>\n",
       "    <tr>\n",
       "      <th>27753441</th>\n",
       "      <td>280481</td>\n",
       "      <td>494</td>\n",
       "      <td>3.0</td>\n",
       "      <td>1537945127</td>\n",
       "      <td>2018-09-26 06:58:47</td>\n",
       "      <td>48935.5</td>\n",
       "      <td>14503</td>\n",
       "      <td>3.373931</td>\n",
       "      <td>3.093500</td>\n",
       "    </tr>\n",
       "    <tr>\n",
       "      <th>27753442</th>\n",
       "      <td>82922</td>\n",
       "      <td>53519</td>\n",
       "      <td>4.0</td>\n",
       "      <td>1537945130</td>\n",
       "      <td>2018-09-26 06:58:50</td>\n",
       "      <td>16718.0</td>\n",
       "      <td>4694</td>\n",
       "      <td>3.560809</td>\n",
       "      <td>3.593500</td>\n",
       "    </tr>\n",
       "    <tr>\n",
       "      <th>27753443</th>\n",
       "      <td>82922</td>\n",
       "      <td>167780</td>\n",
       "      <td>4.0</td>\n",
       "      <td>1537945149</td>\n",
       "      <td>2018-09-26 06:59:09</td>\n",
       "      <td>47.0</td>\n",
       "      <td>12</td>\n",
       "      <td>3.615385</td>\n",
       "      <td>3.615385</td>\n",
       "    </tr>\n",
       "  </tbody>\n",
       "</table>\n",
       "<p>27753444 rows × 9 columns</p>\n",
       "</div>"
      ],
      "text/plain": [
       "          userId  movieId  rating   timestamp            datetime  cum_rating  \\\n",
       "0          56769     1176     4.0   789652004 1995-01-09 11:46:44         4.0   \n",
       "1         237556     1079     3.0   789652009 1995-01-09 11:46:49         3.0   \n",
       "2         237556       47     5.0   789652009 1995-01-09 11:46:49         5.0   \n",
       "3         237556       21     3.0   789652009 1995-01-09 11:46:49         3.0   \n",
       "4         150485       39     5.0   822873600 1996-01-29 00:00:00         5.0   \n",
       "...          ...      ...     ...         ...                 ...         ...   \n",
       "27753439  280481     2294     2.0  1537945121 2018-09-26 06:58:41     41980.0   \n",
       "27753440  280481     2355     3.0  1537945123 2018-09-26 06:58:43     91256.0   \n",
       "27753441  280481      494     3.0  1537945127 2018-09-26 06:58:47     48935.5   \n",
       "27753442   82922    53519     4.0  1537945130 2018-09-26 06:58:50     16718.0   \n",
       "27753443   82922   167780     4.0  1537945149 2018-09-26 06:59:09        47.0   \n",
       "\n",
       "          cum_count  cur_rating  win_rating  \n",
       "0                 0    4.000000    4.000000  \n",
       "1                 0    3.000000    3.000000  \n",
       "2                 0    5.000000    5.000000  \n",
       "3                 0    3.000000    3.000000  \n",
       "4                 0    5.000000    5.000000  \n",
       "...             ...         ...         ...  \n",
       "27753439      12973    3.235702    2.917000  \n",
       "27753440      25520    3.575722    3.427000  \n",
       "27753441      14503    3.373931    3.093500  \n",
       "27753442       4694    3.560809    3.593500  \n",
       "27753443         12    3.615385    3.615385  \n",
       "\n",
       "[27753444 rows x 9 columns]"
      ]
     },
     "execution_count": 8,
     "metadata": {},
     "output_type": "execute_result"
    }
   ],
   "source": [
    "ratings_t['win_rating'] = s_ratings_grouped['rating'] \\\n",
    "    .rolling(1000, min_periods=1).mean().reset_index(0)['rating']\n",
    "ratings_t"
   ]
  },
  {
   "cell_type": "code",
   "execution_count": 9,
   "metadata": {},
   "outputs": [],
   "source": [
    "def plot_movie(movie_id, ax=None):\n",
    "    ax = ax if ax else plt.gca()\n",
    "    movie_data = ratings_t[ratings_t['movieId'] == movie_id]\n",
    "    f_movie_data = movie_data[movie_data['cum_count'] > 50]\n",
    "    sns.lineplot(x=f_movie_data['cum_count'], y=f_movie_data['win_rating'], label='win_rating', ax=ax, alpha=0.5)\n",
    "    sns.lineplot(x=f_movie_data['cum_count'], y=f_movie_data['cur_rating'], label='cur_rating', ax=ax)\n",
    "    ax.set_title(movies_csv.loc[movies_csv.movieId == movie_id]['title'].iloc[0])\n",
    "    def fmt(i, pos):\n",
    "        if i < 0:\n",
    "            return \"\"\n",
    "        rows = movie_data[movie_data['cum_count'] == i]\n",
    "        if len(rows)  < 1:\n",
    "            return i\n",
    "        return datetime.fromtimestamp(rows.iloc[0]['timestamp'])\\\n",
    "                .strftime(\"%m-%Y\")\n",
    "    ax.xaxis.set_major_formatter(fmt)"
   ]
  },
  {
   "cell_type": "code",
   "execution_count": 22,
   "metadata": {},
   "outputs": [],
   "source": [
    "def plot_movie2(movie_id, ax=None, fmt=True):\n",
    "    ax = ax if ax else plt.gca()\n",
    "    movie_data = ratings_t[ratings_t['movieId'] == movie_id]\n",
    "    f_movie_data = movie_data[movie_data['cum_count'] > 50] if movie_data.shape[0] > 20000 else movie_data\n",
    "    sns.lineplot(x=f_movie_data['datetime'], y=f_movie_data['win_rating'], label='win_rating', ax=ax, alpha=0.5)\n",
    "    sns.lineplot(x=f_movie_data['datetime'], y=f_movie_data['cur_rating'], label='cur_rating', ax=ax)\n",
    "    ax.set_title(movies_csv.loc[movies_csv.movieId == movie_id]['title'].iloc[0])\n",
    "    \n",
    "    magic = ax.xaxis.get_major_formatter()\n",
    "    if fmt:\n",
    "        ax.xaxis.set_major_formatter(lambda x, _: pd.to_datetime(x, unit='D').strftime('%m-%Y'))"
   ]
  },
  {
   "cell_type": "code",
   "execution_count": 11,
   "metadata": {},
   "outputs": [],
   "source": [
    "movies_adj = movies_csv\n",
    "\n",
    "def purify_oscar_title(x):\n",
    "    x = str(x).replace('&', 'and')\n",
    "    if x.startswith(\"The \"):\n",
    "        return x[4:]\n",
    "    if x.startswith(\"A \"):\n",
    "        return x[2:]\n",
    "    return x\n",
    "\n",
    "def purify_title(x):\n",
    "    x = ' '.join(x.split()[:-1])\n",
    "    x = purify_oscar_title(x)\n",
    "    return x.replace(\", The\", \"\").replace(\", A\", \"\")\n",
    "        \n",
    "movies_adj['pure_title'] = movies_adj['title'].apply(purify_title)\n",
    "\n",
    "\n",
    "oscars_csv['film_p'] = oscars_csv['film'].apply(purify_oscar_title)"
   ]
  },
  {
   "cell_type": "code",
   "execution_count": 47,
   "metadata": {},
   "outputs": [],
   "source": [
    "def plot_oscars(movie_id, ax):\n",
    "    movie_title = movies_csv.loc[movies_csv.movieId == movie_id]['title'].iloc[0]\n",
    "    movie_title = purify_title(movie_title)\n",
    "    oscars = oscars_csv[oscars_csv['film_p'] == movie_title]['ceremony']\n",
    "    events = (oscars.apply(lambda x: oscar_cer2day.loc[x]['day']) - pd.Timestamp.utcfromtimestamp(0)).dt.days\n",
    "    print(events)\n",
    "    sns.rugplot(x=events, ax=ax)\n",
    "    "
   ]
  },
  {
   "cell_type": "code",
   "execution_count": 25,
   "metadata": {},
   "outputs": [
    {
     "name": "stdout",
     "output_type": "stream",
     "text": [
      "54241\n"
     ]
    },
    {
     "data": {
      "image/png": "[encoded data removed]",
      "text/plain": [
       "<Figure size 504x504 with 1 Axes>"
      ]
     },
     "metadata": {
      "needs_background": "light"
     },
     "output_type": "display_data"
    }
   ],
   "source": [
    "x = movies_adj[movies_adj['pure_title'] == oscars_csv.iloc[401]['film_p']]\n",
    "if len(x):\n",
    "    id = x.iloc[0]['movieId']\n",
    "    print(id)\n",
    "    fig, ax = plt.subplots(figsize=(7,7))\n",
    "    plot_movie2(id, ax=ax, fmt=True)\n",
    "    #plot_oscars(id, ax=ax)"
   ]
  },
  {
   "cell_type": "code",
   "execution_count": 20,
   "metadata": {},
   "outputs": [
    {
     "data": {
      "text/html": [
       "<div>\n",
       "<style scoped>\n",
       "    .dataframe tbody tr th:only-of-type {\n",
       "        vertical-align: middle;\n",
       "    }\n",
       "\n",
       "    .dataframe tbody tr th {\n",
       "        vertical-align: top;\n",
       "    }\n",
       "\n",
       "    .dataframe thead th {\n",
       "        text-align: right;\n",
       "    }\n",
       "</style>\n",
       "<table border=\"1\" class=\"dataframe\">\n",
       "  <thead>\n",
       "    <tr style=\"text-align: right;\">\n",
       "      <th></th>\n",
       "      <th>userId</th>\n",
       "      <th>movieId</th>\n",
       "      <th>rating</th>\n",
       "      <th>timestamp</th>\n",
       "      <th>datetime</th>\n",
       "      <th>cum_rating</th>\n",
       "      <th>cum_count</th>\n",
       "      <th>cur_rating</th>\n",
       "      <th>win_rating</th>\n",
       "    </tr>\n",
       "  </thead>\n",
       "  <tbody>\n",
       "    <tr>\n",
       "      <th>17020279</th>\n",
       "      <td>134596</td>\n",
       "      <td>43383</td>\n",
       "      <td>3.5</td>\n",
       "      <td>1266627564</td>\n",
       "      <td>2010-02-20 00:59:24</td>\n",
       "      <td>3.5</td>\n",
       "      <td>0</td>\n",
       "      <td>3.500000</td>\n",
       "      <td>3.500000</td>\n",
       "    </tr>\n",
       "    <tr>\n",
       "      <th>17024812</th>\n",
       "      <td>191028</td>\n",
       "      <td>43383</td>\n",
       "      <td>4.0</td>\n",
       "      <td>1266784762</td>\n",
       "      <td>2010-02-21 20:39:22</td>\n",
       "      <td>7.5</td>\n",
       "      <td>1</td>\n",
       "      <td>3.750000</td>\n",
       "      <td>3.750000</td>\n",
       "    </tr>\n",
       "    <tr>\n",
       "      <th>17025564</th>\n",
       "      <td>117490</td>\n",
       "      <td>43383</td>\n",
       "      <td>3.5</td>\n",
       "      <td>1266796510</td>\n",
       "      <td>2010-02-21 23:55:10</td>\n",
       "      <td>11.0</td>\n",
       "      <td>2</td>\n",
       "      <td>3.666667</td>\n",
       "      <td>3.666667</td>\n",
       "    </tr>\n",
       "    <tr>\n",
       "      <th>17029688</th>\n",
       "      <td>146942</td>\n",
       "      <td>43383</td>\n",
       "      <td>2.5</td>\n",
       "      <td>1266918257</td>\n",
       "      <td>2010-02-23 09:44:17</td>\n",
       "      <td>13.5</td>\n",
       "      <td>3</td>\n",
       "      <td>3.375000</td>\n",
       "      <td>3.375000</td>\n",
       "    </tr>\n",
       "    <tr>\n",
       "      <th>17055887</th>\n",
       "      <td>227150</td>\n",
       "      <td>43383</td>\n",
       "      <td>3.5</td>\n",
       "      <td>1267921594</td>\n",
       "      <td>2010-03-07 00:26:34</td>\n",
       "      <td>17.0</td>\n",
       "      <td>4</td>\n",
       "      <td>3.400000</td>\n",
       "      <td>3.400000</td>\n",
       "    </tr>\n",
       "    <tr>\n",
       "      <th>22514878</th>\n",
       "      <td>123100</td>\n",
       "      <td>43383</td>\n",
       "      <td>3.5</td>\n",
       "      <td>1450164107</td>\n",
       "      <td>2015-12-15 07:21:47</td>\n",
       "      <td>20.5</td>\n",
       "      <td>5</td>\n",
       "      <td>3.416667</td>\n",
       "      <td>3.416667</td>\n",
       "    </tr>\n",
       "    <tr>\n",
       "      <th>23170714</th>\n",
       "      <td>187986</td>\n",
       "      <td>43383</td>\n",
       "      <td>4.0</td>\n",
       "      <td>1459091573</td>\n",
       "      <td>2016-03-27 15:12:53</td>\n",
       "      <td>24.5</td>\n",
       "      <td>6</td>\n",
       "      <td>3.500000</td>\n",
       "      <td>3.500000</td>\n",
       "    </tr>\n",
       "    <tr>\n",
       "      <th>27001466</th>\n",
       "      <td>95727</td>\n",
       "      <td>43383</td>\n",
       "      <td>3.0</td>\n",
       "      <td>1521848351</td>\n",
       "      <td>2018-03-23 23:39:11</td>\n",
       "      <td>27.5</td>\n",
       "      <td>7</td>\n",
       "      <td>3.437500</td>\n",
       "      <td>3.437500</td>\n",
       "    </tr>\n",
       "  </tbody>\n",
       "</table>\n",
       "</div>"
      ],
      "text/plain": [
       "          userId  movieId  rating   timestamp            datetime  cum_rating  \\\n",
       "17020279  134596    43383     3.5  1266627564 2010-02-20 00:59:24         3.5   \n",
       "17024812  191028    43383     4.0  1266784762 2010-02-21 20:39:22         7.5   \n",
       "17025564  117490    43383     3.5  1266796510 2010-02-21 23:55:10        11.0   \n",
       "17029688  146942    43383     2.5  1266918257 2010-02-23 09:44:17        13.5   \n",
       "17055887  227150    43383     3.5  1267921594 2010-03-07 00:26:34        17.0   \n",
       "22514878  123100    43383     3.5  1450164107 2015-12-15 07:21:47        20.5   \n",
       "23170714  187986    43383     4.0  1459091573 2016-03-27 15:12:53        24.5   \n",
       "27001466   95727    43383     3.0  1521848351 2018-03-23 23:39:11        27.5   \n",
       "\n",
       "          cum_count  cur_rating  win_rating  \n",
       "17020279          0    3.500000    3.500000  \n",
       "17024812          1    3.750000    3.750000  \n",
       "17025564          2    3.666667    3.666667  \n",
       "17029688          3    3.375000    3.375000  \n",
       "17055887          4    3.400000    3.400000  \n",
       "22514878          5    3.416667    3.416667  \n",
       "23170714          6    3.500000    3.500000  \n",
       "27001466          7    3.437500    3.437500  "
      ]
     },
     "execution_count": 20,
     "metadata": {},
     "output_type": "execute_result"
    }
   ],
   "source": [
    "ratings_t[ratings_t.movieId == 43383]"
   ]
  },
  {
   "cell_type": "code",
   "execution_count": 32,
   "metadata": {},
   "outputs": [],
   "source": [
    "ratings_count = ratings_t.groupby(['movieId']).size()"
   ]
  },
  {
   "cell_type": "code",
   "execution_count": 39,
   "metadata": {},
   "outputs": [
    {
     "data": {
      "text/plain": [
       "movieId\n",
       "318       97999\n",
       "356       97040\n",
       "296       92406\n",
       "593       87899\n",
       "2571      84545\n",
       "          ...  \n",
       "116817      101\n",
       "8903        101\n",
       "27049       101\n",
       "5208        101\n",
       "8598        101\n",
       "Length: 10448, dtype: int64"
      ]
     },
     "execution_count": 39,
     "metadata": {},
     "output_type": "execute_result"
    }
   ],
   "source": [
    "x = ratings_count[ratings_count > 100].sort_values(ascending=False)\n",
    "x"
   ]
  },
  {
   "cell_type": "code",
   "execution_count": 53,
   "metadata": {},
   "outputs": [
    {
     "data": {
      "image/png": "[encoded data removed]",
      "text/plain": [
       "<Figure size 504x504 with 1 Axes>"
      ]
     },
     "metadata": {
      "needs_background": "light"
     },
     "output_type": "display_data"
    }
   ],
   "source": [
    "id = 1\n",
    "fig, ax = plt.subplots(figsize=(7,7))\n",
    "plot_movie2(id, ax=ax)\n",
    "#plot_oscars(id, ax=ax)"
   ]
  },
  {
   "cell_type": "code",
   "execution_count": 58,
   "metadata": {},
   "outputs": [
    {
     "data": {
      "image/png": "[encoded data removed]",
      "text/plain": [
       "<Figure size 504x504 with 1 Axes>"
      ]
     },
     "metadata": {
      "needs_background": "light"
     },
     "output_type": "display_data"
    }
   ],
   "source": [
    "id = 6\n",
    "fig, ax = plt.subplots(figsize=(7,7))\n",
    "plot_movie2(id, ax=ax)\n",
    "#plot_oscars(id, ax=ax)"
   ]
  },
  {
   "cell_type": "code",
   "execution_count": 42,
   "metadata": {},
   "outputs": [
    {
     "data": {
      "text/plain": [
       "movieId\n",
       "3535     12952\n",
       "1663      9581\n",
       "3577       310\n",
       "4275      1361\n",
       "2864       191\n",
       "71468      442\n",
       "3667       145\n",
       "55274      896\n",
       "4645       270\n",
       "2858     60820\n",
       "dtype: int64"
      ]
     },
     "execution_count": 42,
     "metadata": {},
     "output_type": "execute_result"
    }
   ],
   "source": [
    "x.sample(n=10)"
   ]
  },
  {
   "cell_type": "code",
   "execution_count": null,
   "metadata": {},
   "outputs": [],
   "source": []
  }
 ],
 "metadata": {
  "kernelspec": {
   "display_name": "Python 3",
   "language": "python",
   "name": "python3"
  },
  "language_info": {
   "codemirror_mode": {
    "name": "ipython",
    "version": 3
   },
   "file_extension": ".py",
   "mimetype": "text/x-python",
   "name": "python",
   "nbconvert_exporter": "python",
   "pygments_lexer": "ipython3",
   "version": "3.8.5"
  }
 },
 "nbformat": 4,
 "nbformat_minor": 4
}
