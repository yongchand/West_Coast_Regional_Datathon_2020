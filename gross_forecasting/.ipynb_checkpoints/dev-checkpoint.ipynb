{
 "cells": [
  {
   "cell_type": "code",
   "execution_count": 1,
   "metadata": {
    "pycharm": {
     "is_executing": true
    }
   },
   "outputs": [],
   "source": [
    "import pandas as pd"
   ]
  },
  {
   "cell_type": "code",
   "execution_count": 2,
   "metadata": {
    "pycharm": {
     "name": "#%%\n"
    }
   },
   "outputs": [
    {
     "data": {
      "text/html": [
       "<div>\n",
       "<style scoped>\n",
       "    .dataframe tbody tr th:only-of-type {\n",
       "        vertical-align: middle;\n",
       "    }\n",
       "\n",
       "    .dataframe tbody tr th {\n",
       "        vertical-align: top;\n",
       "    }\n",
       "\n",
       "    .dataframe thead th {\n",
       "        text-align: right;\n",
       "    }\n",
       "</style>\n",
       "<table border=\"1\" class=\"dataframe\">\n",
       "  <thead>\n",
       "    <tr style=\"text-align: right;\">\n",
       "      <th></th>\n",
       "      <th>Series ID</th>\n",
       "      <th>Year</th>\n",
       "      <th>Period</th>\n",
       "      <th>Label</th>\n",
       "      <th>Value</th>\n",
       "    </tr>\n",
       "  </thead>\n",
       "  <tbody>\n",
       "    <tr>\n",
       "      <th>0</th>\n",
       "      <td>CUUR0000SA0</td>\n",
       "      <td>1913</td>\n",
       "      <td>M01</td>\n",
       "      <td>1913 Jan</td>\n",
       "      <td>9.800</td>\n",
       "    </tr>\n",
       "    <tr>\n",
       "      <th>1</th>\n",
       "      <td>CUUR0000SA0</td>\n",
       "      <td>1913</td>\n",
       "      <td>M02</td>\n",
       "      <td>1913 Feb</td>\n",
       "      <td>9.800</td>\n",
       "    </tr>\n",
       "    <tr>\n",
       "      <th>2</th>\n",
       "      <td>CUUR0000SA0</td>\n",
       "      <td>1913</td>\n",
       "      <td>M03</td>\n",
       "      <td>1913 Mar</td>\n",
       "      <td>9.800</td>\n",
       "    </tr>\n",
       "    <tr>\n",
       "      <th>3</th>\n",
       "      <td>CUUR0000SA0</td>\n",
       "      <td>1913</td>\n",
       "      <td>M04</td>\n",
       "      <td>1913 Apr</td>\n",
       "      <td>9.800</td>\n",
       "    </tr>\n",
       "    <tr>\n",
       "      <th>4</th>\n",
       "      <td>CUUR0000SA0</td>\n",
       "      <td>1913</td>\n",
       "      <td>M05</td>\n",
       "      <td>1913 May</td>\n",
       "      <td>9.700</td>\n",
       "    </tr>\n",
       "    <tr>\n",
       "      <th>...</th>\n",
       "      <td>...</td>\n",
       "      <td>...</td>\n",
       "      <td>...</td>\n",
       "      <td>...</td>\n",
       "      <td>...</td>\n",
       "    </tr>\n",
       "    <tr>\n",
       "      <th>1287</th>\n",
       "      <td>CUUR0000SA0</td>\n",
       "      <td>2020</td>\n",
       "      <td>M04</td>\n",
       "      <td>2020 Apr</td>\n",
       "      <td>256.389</td>\n",
       "    </tr>\n",
       "    <tr>\n",
       "      <th>1288</th>\n",
       "      <td>CUUR0000SA0</td>\n",
       "      <td>2020</td>\n",
       "      <td>M05</td>\n",
       "      <td>2020 May</td>\n",
       "      <td>256.394</td>\n",
       "    </tr>\n",
       "    <tr>\n",
       "      <th>1289</th>\n",
       "      <td>CUUR0000SA0</td>\n",
       "      <td>2020</td>\n",
       "      <td>M06</td>\n",
       "      <td>2020 Jun</td>\n",
       "      <td>257.797</td>\n",
       "    </tr>\n",
       "    <tr>\n",
       "      <th>1290</th>\n",
       "      <td>CUUR0000SA0</td>\n",
       "      <td>2020</td>\n",
       "      <td>M07</td>\n",
       "      <td>2020 Jul</td>\n",
       "      <td>259.101</td>\n",
       "    </tr>\n",
       "    <tr>\n",
       "      <th>1291</th>\n",
       "      <td>CUUR0000SA0</td>\n",
       "      <td>2020</td>\n",
       "      <td>M08</td>\n",
       "      <td>2020 Aug</td>\n",
       "      <td>259.918</td>\n",
       "    </tr>\n",
       "  </tbody>\n",
       "</table>\n",
       "<p>1292 rows × 5 columns</p>\n",
       "</div>"
      ],
      "text/plain": [
       "        Series ID  Year Period     Label    Value\n",
       "0     CUUR0000SA0  1913    M01  1913 Jan    9.800\n",
       "1     CUUR0000SA0  1913    M02  1913 Feb    9.800\n",
       "2     CUUR0000SA0  1913    M03  1913 Mar    9.800\n",
       "3     CUUR0000SA0  1913    M04  1913 Apr    9.800\n",
       "4     CUUR0000SA0  1913    M05  1913 May    9.700\n",
       "...           ...   ...    ...       ...      ...\n",
       "1287  CUUR0000SA0  2020    M04  2020 Apr  256.389\n",
       "1288  CUUR0000SA0  2020    M05  2020 May  256.394\n",
       "1289  CUUR0000SA0  2020    M06  2020 Jun  257.797\n",
       "1290  CUUR0000SA0  2020    M07  2020 Jul  259.101\n",
       "1291  CUUR0000SA0  2020    M08  2020 Aug  259.918\n",
       "\n",
       "[1292 rows x 5 columns]"
      ]
     },
     "execution_count": 2,
     "metadata": {},
     "output_type": "execute_result"
    }
   ],
   "source": [
    "pd.read_csv('../cpi.csv')"
   ]
  }
 ],
 "metadata": {
  "kernelspec": {
   "display_name": "Python 3",
   "language": "python",
   "name": "python3"
  },
  "language_info": {
   "codemirror_mode": {
    "name": "ipython",
    "version": 3
   },
   "file_extension": ".py",
   "mimetype": "text/x-python",
   "name": "python",
   "nbconvert_exporter": "python",
   "pygments_lexer": "ipython3",
   "version": "3.7.0"
  }
 },
 "nbformat": 4,
 "nbformat_minor": 1
}
